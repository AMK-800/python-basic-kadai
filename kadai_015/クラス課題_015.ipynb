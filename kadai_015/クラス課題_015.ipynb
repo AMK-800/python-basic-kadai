{
  "nbformat": 4,
  "nbformat_minor": 0,
  "metadata": {
    "colab": {
      "provenance": []
    },
    "kernelspec": {
      "name": "python3",
      "display_name": "Python 3"
    },
    "language_info": {
      "name": "python"
    }
  },
  "cells": [
    {
      "cell_type": "code",
      "execution_count": 5,
      "metadata": {
        "colab": {
          "base_uri": "https://localhost:8080/"
        },
        "id": "CXdST-Ckx8M3",
        "outputId": "e290e05f-dbbe-4234-efb4-b4bd7057405e"
      },
      "outputs": [
        {
          "output_type": "stream",
          "name": "stdout",
          "text": [
            "亜美香 31\n"
          ]
        }
      ],
      "source": [
        "class Human:\n",
        "    def __init__(self, name, age):\n",
        "        self.name = name\n",
        "        self.age = age\n",
        "\n",
        "    def printinfo_name_age (self):\n",
        "        print(self.name, self.age)\n",
        "\n",
        "    def show_printinfo (self):\n",
        "        print(self.name, self.age)\n",
        "\n",
        "amika = Human(\"亜美香\",31)\n",
        "amika.show_printinfo()"
      ]
    }
  ]
}