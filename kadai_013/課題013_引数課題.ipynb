{
  "nbformat": 4,
  "nbformat_minor": 0,
  "metadata": {
    "colab": {
      "provenance": []
    },
    "kernelspec": {
      "name": "python3",
      "display_name": "Python 3"
    },
    "language_info": {
      "name": "python"
    }
  },
  "cells": [
    {
      "cell_type": "code",
      "source": [
        "def calculate_total_price(price, tax_rate=0.1):\n",
        "    total_price = price * (1 + tax_rate)\n",
        "    return total_price\n",
        "\n",
        "print(calculate_total_price(100))\n"
      ],
      "metadata": {
        "colab": {
          "base_uri": "https://localhost:8080/"
        },
        "id": "huhJl-dP7gfV",
        "outputId": "b4a55139-c557-424d-f564-48ddb53030f7"
      },
      "execution_count": null,
      "outputs": [
        {
          "output_type": "stream",
          "name": "stdout",
          "text": [
            "110.00000000000001\n"
          ]
        }
      ]
    }
  ]
}