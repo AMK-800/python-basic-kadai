{
  "nbformat": 4,
  "nbformat_minor": 0,
  "metadata": {
    "colab": {
      "provenance": []
    },
    "kernelspec": {
      "name": "python3",
      "display_name": "Python 3"
    },
    "language_info": {
      "name": "python"
    }
  },
  "cells": [
    {
      "cell_type": "code",
      "execution_count": 4,
      "metadata": {
        "colab": {
          "base_uri": "https://localhost:8080/"
        },
        "id": "y7zdU_159Byq",
        "outputId": "c48bbc66-0354-4271-ff62-8161057b9175"
      },
      "outputs": [
        {
          "output_type": "stream",
          "name": "stdout",
          "text": [
            "大人\n",
            "大人\n",
            "大人でない\n",
            "大人でない\n"
          ]
        }
      ],
      "source": [
        "class Human:\n",
        "\n",
        "  def __init__(self, name, age):\n",
        "    self.name = name\n",
        "    self.age = age\n",
        "\n",
        "  def check_adult(self):\n",
        "    if self.age >= 20:\n",
        "      print(\"大人\")\n",
        "    else:\n",
        "      print(\"大人でない\")\n",
        "\n",
        "human_names = [\"亜美香\",\"英聖\",\"凛\",\"芽\"]\n",
        "human_ages = [31,25,19,17]\n",
        "\n",
        "for name, age in zip(human_names, human_ages):\n",
        "  human = Human(name, age)\n",
        "  human.check_adult()"
      ]
    }
  ]
}