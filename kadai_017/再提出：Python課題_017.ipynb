{
  "nbformat": 4,
  "nbformat_minor": 0,
  "metadata": {
    "colab": {
      "provenance": []
    },
    "kernelspec": {
      "name": "python3",
      "display_name": "Python 3"
    },
    "language_info": {
      "name": "python"
    }
  },
  "cells": [
    {
      "cell_type": "code",
      "execution_count": 8,
      "metadata": {
        "colab": {
          "base_uri": "https://localhost:8080/"
        },
        "id": "y7zdU_159Byq",
        "outputId": "5c8b6cb4-ac40-4f9e-eba7-1acdf11444fd"
      },
      "outputs": [
        {
          "output_type": "stream",
          "name": "stdout",
          "text": [
            "大人\n",
            "大人\n",
            "大人でない\n",
            "大人でない\n"
          ]
        }
      ],
      "source": [
        "class Human:\n",
        "\n",
        "  def __init__(self, name, age):\n",
        "    self.name = name\n",
        "    self.age = age\n",
        "\n",
        "  def check_adult(self):\n",
        "    if self.age >= 20:\n",
        "      print(\"大人\")\n",
        "    else:\n",
        "      print(\"大人でない\")\n",
        "\n",
        "humans = [Human(\"亜美香\",31), Human(\"英聖\",25), Human(\"凛\",19), Human(\"芽\",17)]\n",
        "\n",
        "for human in humans:\n",
        "    human.check_adult()"
      ]
    }
  ]
}