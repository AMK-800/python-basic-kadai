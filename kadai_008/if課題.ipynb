{
  "nbformat": 4,
  "nbformat_minor": 0,
  "metadata": {
    "colab": {
      "provenance": []
    },
    "kernelspec": {
      "name": "python3",
      "display_name": "Python 3"
    },
    "language_info": {
      "name": "python"
    }
  },
  "cells": [
    {
      "cell_type": "code",
      "execution_count": 2,
      "metadata": {
        "colab": {
          "base_uri": "https://localhost:8080/"
        },
        "id": "HdH9xFi65gsY",
        "outputId": "7a064a13-bee5-4442-d7e4-d0957a91351a"
      },
      "outputs": [
        {
          "output_type": "stream",
          "name": "stdout",
          "text": [
            "30\n",
            "FizzBuzz\n"
          ]
        }
      ],
      "source": [
        "import random\n",
        "\n",
        "var = random.randint(1, 100)\n",
        "print(var)\n",
        "\n",
        "if var %3 == 0 and var %5 == 0:\n",
        "    print(\"FizzBuzz\")\n",
        "elif var %3 == 0:\n",
        "    print(\"Fizz\")\n",
        "elif var %5 == 0:\n",
        "    print(\"Buzz\")\n",
        "else:\n",
        "    print(var)"
      ]
    }
  ]
}