{
  "nbformat": 4,
  "nbformat_minor": 0,
  "metadata": {
    "colab": {
      "provenance": []
    },
    "kernelspec": {
      "name": "python3",
      "display_name": "Python 3"
    },
    "language_info": {
      "name": "python"
    }
  },
  "cells": [
    {
      "cell_type": "code",
      "execution_count": null,
      "metadata": {
        "colab": {
          "base_uri": "https://localhost:8080/"
        },
        "id": "yHAwXYhsTCYs",
        "outputId": "a7ae598a-998f-4c1d-940d-f9d1e5deb528"
      },
      "outputs": [
        {
          "output_type": "stream",
          "name": "stdout",
          "text": [
            "お酒で乾杯！\n"
          ]
        }
      ],
      "source": [
        "age = 31 # 年齢\n",
        "\n",
        "if age < 20:\n",
        "    # 未成年の場合\n",
        "    print(\"ジュースで乾杯！\")\n",
        "else:\n",
        "    # 成年の場合\n",
        "    print(\"お酒で乾杯！\")\n"
      ]
    },
    {
      "cell_type": "markdown",
      "source": [
        "upper = 10\n",
        "lower = 20\n",
        "higher = 5\n",
        "\n",
        "print((upper + lower) * higher / 2)\n",
        "\n"
      ],
      "metadata": {
        "id": "4SPOmQP545U5"
      }
    },
    {
      "cell_type": "code",
      "source": [
        "upper = 10\n",
        "lower = 20\n",
        "higher = 5\n",
        "\n",
        "print( ( upper + lower ) * higher / 2 ,\" ㎠ \" )\n"
      ],
      "metadata": {
        "colab": {
          "base_uri": "https://localhost:8080/"
        },
        "id": "1o3NOD7K8JI3",
        "outputId": "6dc8c512-9220-453b-e5f3-a351f82bd2a8"
      },
      "execution_count": 16,
      "outputs": [
        {
          "output_type": "stream",
          "name": "stdout",
          "text": [
            "75.0  ㎠ \n"
          ]
        }
      ]
    }
  ]
}