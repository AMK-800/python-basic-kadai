{
  "nbformat": 4,
  "nbformat_minor": 0,
  "metadata": {
    "colab": {
      "provenance": []
    },
    "kernelspec": {
      "name": "python3",
      "display_name": "Python 3"
    },
    "language_info": {
      "name": "python"
    }
  },
  "cells": [
    {
      "source": [
        "upper = 10\n",
        "lower = 20\n",
        "higher = 5\n",
        "\n",
        "area = ( upper + lower ) * higher / 2\n",
        "\n",
        "print(str(area) + \"㎠\")"
      ],
      "cell_type": "code",
      "metadata": {
        "colab": {
          "base_uri": "https://localhost:8080/"
        },
        "id": "hItIikqvpHV9",
        "outputId": "f5f87a35-a716-4705-b0a6-ad28b48b8b68"
      },
      "execution_count": 12,
      "outputs": [
        {
          "output_type": "stream",
          "name": "stdout",
          "text": [
            "75.0㎠\n"
          ]
        }
      ]
    }
  ]
}